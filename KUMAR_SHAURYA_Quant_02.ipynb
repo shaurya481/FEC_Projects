{
 "cells": [
  {
   "cell_type": "markdown",
   "metadata": {
    "id": "IA2wZYDeBURQ"
   },
   "source": [
    "# **SHAURYA'S PORTFOLIO**"
   ]
  },
  {
   "cell_type": "markdown",
   "metadata": {
    "id": "6rJunasTBr3W"
   },
   "source": [
    "------------------------------------------------------------------------------------------------------------------------------------------------------------"
   ]
  },
  {
   "cell_type": "markdown",
   "metadata": {
    "id": "3Pa0-WzrB4Zb"
   },
   "source": [
    "##Portfolio Constraints\n",
    "\n",
    "Investment constraints is one of the most integral part of any portfolio or an investment policy statement. Any asset class that is included in the portfolio has to be chosen only after a thorough understanding of the investment constraints.\n",
    "\n",
    "Investment constraints are the factors that restrict or limit the investment options available to an investor. \n"
   ]
  },
  {
   "cell_type": "markdown",
   "metadata": {
    "id": "MgXNOPH4CmzI"
   },
   "source": [
    "So the constarints of my portfolio are -\n",
    "\n",
    "* **Time Horizon** :-\n",
    "  Investing in this portfolio requires the investor to hold his invested assets for a period of atleast 2 months or when the policy change is incorporated( whichever is earlier )\n",
    "\n",
    "* **Taxation** :-\n",
    "  The investor should note that once investing in this portfolio, whatever returns or dividends are provided will automatically be taxed as per the [SEBI ACT, 1992](https://www.sebi.gov.in/sebi_data/attachdocs/1456380272563.pdf) . It should also be noted that the dividends (specifically Long Term Capital Gains(LTCG)) which are tax-free, would still be liable to the service charges levied by the portfolio T&C.\n",
    "\n",
    "* **Legal & Regulatory** :- \n",
    "  Only the investor will be liable for any loss due to changes in Government Policies, Market Movement and Weight Adjustment of the assets in the portfolio. However, it should be noted that in case of weight adjustment the company will inform well in advance & the investor may withdraw the investments in a stipulated period of time. \n",
    "\n",
    "* **Liquidity** :- \n",
    "  The investor shall be aware that this portfolio consists only of stock investments, hence no liquidity of investment is enacted here. But, suppose if an emergency arises then the investor might take back the investment but on the terms of mortgage.\n",
    "\n"
   ]
  },
  {
   "cell_type": "markdown",
   "metadata": {
    "id": "gTL25c0SEaph"
   },
   "source": [
    "------------------------------------------------------------------------------------------------------------------------------------------------------------"
   ]
  },
  {
   "cell_type": "markdown",
   "metadata": {
    "id": "qHKan8_REfYi"
   },
   "source": [
    "##Portfolio Details \n",
    "\n",
    "**Stocks Traded** :-\n",
    "\n",
    "1. ASIAN PAINTS - FMCG (FAST MOVING CONSUMER GOODS) SECTOR\n",
    "2. HDFC BANK - BANKING SECTOR\n",
    "3. HINDUSTAN UNILEVER - FMCG (FAST MOVING CONSUMER GOODS) SECTOR\n",
    "4. EICHER MOTORS - AUTO SECTOR\n",
    "5. CIPLA PHARMA - PHARMA SECTOR\n",
    "6. RELIANCE - PRIVATE SECTOR ENTERPRISE\n",
    "7. TCS - IT SECTOR COMPANY\n",
    "\n",
    "**Stock Market** :- NSE\n",
    "\n",
    "**Time Considered for Analysis** :- 01/01/2010 to 31/12/2019\n"
   ]
  },
  {
   "cell_type": "markdown",
   "metadata": {
    "id": "5L7az3BkGq49"
   },
   "source": [
    "------------------------------------------------------------------------------------------------------------------------------------------------------------"
   ]
  },
  {
   "cell_type": "markdown",
   "metadata": {
    "id": "jOnDSk3CGu1y"
   },
   "source": [
    "**Q1** How did you choose the stocks ?\n",
    "\n",
    "**Answer** :- My thought process for selecting the stocks is as follows :-\n",
    "\n",
    "1. Firstly, choose the stocks from different sector of companies( i.e. FMCG, Pharma, Bank, etc. ). The reason for this is - the concept of divesification ( as stated in MPT ) for risk minimization.\n",
    "\n",
    "2. Once you have selected the sectors, then pick up the companies performing well in long-run.\n",
    "\n",
    "3. Also try to analyse each stock stock individually to understand the risk-reward trade-off of each of them.\n",
    "\n",
    "4. The third and the least important step is to check the face value of the company and the dividend given over it."
   ]
  },
  {
   "cell_type": "markdown",
   "metadata": {
    "id": "DFFtqAd-IYsz"
   },
   "source": [
    "------------------------------------------------------------------------------------------------------------------------------------------------------------"
   ]
  },
  {
   "cell_type": "markdown",
   "metadata": {
    "id": "9oFy2MtsJp2p"
   },
   "source": [
    "Now after choosing the stocks, the most important task is assigning optimal weigths to the stocks, so that the portfolio lies in set of `Efficient Frontier` , such that for a given return the risk is minumum or for a given risk, return is maximum."
   ]
  },
  {
   "cell_type": "code",
   "execution_count": 1,
   "metadata": {
    "id": "wQr-mLObBq85"
   },
   "outputs": [],
   "source": [
    "import numpy as np\n",
    "import pandas as pd\n",
    "import matplotlib.pyplot as plt"
   ]
  },
  {
   "cell_type": "markdown",
   "metadata": {
    "id": "0myvd4C6NQB_"
   },
   "source": [
    "Let's initialize the data frame which would store the data for the stocks"
   ]
  },
  {
   "cell_type": "code",
   "execution_count": 2,
   "metadata": {
    "colab": {
     "base_uri": "https://localhost:8080/"
    },
    "id": "pU2WiGmoNDtL",
    "outputId": "f89bb169-f6be-45b4-a4ac-ca3d4afa6ccb"
   },
   "outputs": [
    {
     "data": {
      "text/plain": [
       "pandas.core.frame.DataFrame"
      ]
     },
     "execution_count": 2,
     "metadata": {},
     "output_type": "execute_result"
    }
   ],
   "source": [
    "date_index = pd.date_range(start = \"2010-01-01\", end = \"2019-12-31\" , freq=\"D\")\n",
    "data = pd.DataFrame( index = date_index)\n",
    "\n",
    "type(data)"
   ]
  },
  {
   "cell_type": "code",
   "execution_count": 3,
   "metadata": {
    "id": "qI8cM54JKPBA"
   },
   "outputs": [],
   "source": [
    "#Function to read data for the different stocks\n",
    "\n",
    "def read_data(path, df, stock_name) :\n",
    "  data = pd.read_csv(path)\n",
    "  data.sort_index(ascending = False, axis=0, inplace=True)\n",
    "  \n",
    "  #converting all columns to loewr case & removing any leading or trailing spaces\n",
    "  data.columns = data.columns.str.lower()\n",
    "  data.columns = data.columns.str.strip()\n",
    "\n",
    "  #converting the index to the date\n",
    "  data = data.set_index(pd.to_datetime(data['date']))\n",
    "\n",
    "  #We need only adjusted price columns in our data frame\n",
    "  df[stock_name] = data['adj close']\n",
    "\n",
    "  return df\n",
    "\n"
   ]
  },
  {
   "cell_type": "code",
   "execution_count": 4,
   "metadata": {
    "colab": {
     "base_uri": "https://localhost:8080/",
     "height": 443
    },
    "id": "G5tPTRgjQaHi",
    "outputId": "ab3c30b3-c3f3-4c4f-e3a4-70e753b8e6ec"
   },
   "outputs": [],
   "source": [
    "data = read_data('./content/sample_data/ASIANPAINT.NS.csv', data, 'ap')\n",
    "data = read_data('./content/sample_data/CIPLA.NS.csv', data, 'cipla')\n",
    "data = read_data('./content/sample_data/EICHERMOT.NS.csv', data, 'eicher')\n",
    "data = read_data('./content/sample_data/HDFCBANK.NS.csv', data, 'hdfc')\n",
    "data = read_data('./content/sample_data/HINDUNILVR.NS.csv', data, 'hu')\n",
    "data = read_data('./content/sample_data/RELIANCE.NS.csv', data, 'relaince')\n",
    "data = read_data('./content/sample_data/TCS.NS.csv', data, 'tcs')"
   ]
  },
  {
   "cell_type": "code",
   "execution_count": 5,
   "metadata": {
    "colab": {
     "base_uri": "https://localhost:8080/",
     "height": 266
    },
    "id": "neYBbyJFRh_5",
    "outputId": "63c6a444-4467-4279-f6b7-d928580c0704"
   },
   "outputs": [
    {
     "data": {
      "text/html": [
       "<div>\n",
       "<style scoped>\n",
       "    .dataframe tbody tr th:only-of-type {\n",
       "        vertical-align: middle;\n",
       "    }\n",
       "\n",
       "    .dataframe tbody tr th {\n",
       "        vertical-align: top;\n",
       "    }\n",
       "\n",
       "    .dataframe thead th {\n",
       "        text-align: right;\n",
       "    }\n",
       "</style>\n",
       "<table border=\"1\" class=\"dataframe\">\n",
       "  <thead>\n",
       "    <tr style=\"text-align: right;\">\n",
       "      <th></th>\n",
       "      <th>ap</th>\n",
       "      <th>cipla</th>\n",
       "      <th>eicher</th>\n",
       "      <th>hdfc</th>\n",
       "      <th>hu</th>\n",
       "      <th>relaince</th>\n",
       "      <th>tcs</th>\n",
       "    </tr>\n",
       "  </thead>\n",
       "  <tbody>\n",
       "    <tr>\n",
       "      <th>2010-01-01</th>\n",
       "      <td>NaN</td>\n",
       "      <td>NaN</td>\n",
       "      <td>NaN</td>\n",
       "      <td>NaN</td>\n",
       "      <td>NaN</td>\n",
       "      <td>NaN</td>\n",
       "      <td>NaN</td>\n",
       "    </tr>\n",
       "    <tr>\n",
       "      <th>2010-01-02</th>\n",
       "      <td>NaN</td>\n",
       "      <td>NaN</td>\n",
       "      <td>NaN</td>\n",
       "      <td>NaN</td>\n",
       "      <td>NaN</td>\n",
       "      <td>NaN</td>\n",
       "      <td>NaN</td>\n",
       "    </tr>\n",
       "    <tr>\n",
       "      <th>2010-01-03</th>\n",
       "      <td>NaN</td>\n",
       "      <td>NaN</td>\n",
       "      <td>NaN</td>\n",
       "      <td>NaN</td>\n",
       "      <td>NaN</td>\n",
       "      <td>NaN</td>\n",
       "      <td>NaN</td>\n",
       "    </tr>\n",
       "    <tr>\n",
       "      <th>2010-01-04</th>\n",
       "      <td>162.925415</td>\n",
       "      <td>319.837677</td>\n",
       "      <td>57.927864</td>\n",
       "      <td>158.248413</td>\n",
       "      <td>216.147278</td>\n",
       "      <td>485.824005</td>\n",
       "      <td>302.451019</td>\n",
       "    </tr>\n",
       "    <tr>\n",
       "      <th>2010-01-05</th>\n",
       "      <td>163.440033</td>\n",
       "      <td>314.105194</td>\n",
       "      <td>55.994507</td>\n",
       "      <td>158.387589</td>\n",
       "      <td>215.453201</td>\n",
       "      <td>483.655701</td>\n",
       "      <td>302.531525</td>\n",
       "    </tr>\n",
       "    <tr>\n",
       "      <th>2010-01-06</th>\n",
       "      <td>162.948135</td>\n",
       "      <td>326.802032</td>\n",
       "      <td>55.527241</td>\n",
       "      <td>158.494308</td>\n",
       "      <td>216.678070</td>\n",
       "      <td>491.470398</td>\n",
       "      <td>295.690979</td>\n",
       "    </tr>\n",
       "    <tr>\n",
       "      <th>2010-01-07</th>\n",
       "      <td>161.285767</td>\n",
       "      <td>324.101532</td>\n",
       "      <td>54.751324</td>\n",
       "      <td>158.907150</td>\n",
       "      <td>216.228928</td>\n",
       "      <td>499.623901</td>\n",
       "      <td>287.462311</td>\n",
       "    </tr>\n",
       "  </tbody>\n",
       "</table>\n",
       "</div>"
      ],
      "text/plain": [
       "                    ap       cipla     eicher        hdfc          hu  \\\n",
       "2010-01-01         NaN         NaN        NaN         NaN         NaN   \n",
       "2010-01-02         NaN         NaN        NaN         NaN         NaN   \n",
       "2010-01-03         NaN         NaN        NaN         NaN         NaN   \n",
       "2010-01-04  162.925415  319.837677  57.927864  158.248413  216.147278   \n",
       "2010-01-05  163.440033  314.105194  55.994507  158.387589  215.453201   \n",
       "2010-01-06  162.948135  326.802032  55.527241  158.494308  216.678070   \n",
       "2010-01-07  161.285767  324.101532  54.751324  158.907150  216.228928   \n",
       "\n",
       "              relaince         tcs  \n",
       "2010-01-01         NaN         NaN  \n",
       "2010-01-02         NaN         NaN  \n",
       "2010-01-03         NaN         NaN  \n",
       "2010-01-04  485.824005  302.451019  \n",
       "2010-01-05  483.655701  302.531525  \n",
       "2010-01-06  491.470398  295.690979  \n",
       "2010-01-07  499.623901  287.462311  "
      ]
     },
     "execution_count": 5,
     "metadata": {},
     "output_type": "execute_result"
    }
   ],
   "source": [
    "data.head(7)"
   ]
  },
  {
   "cell_type": "markdown",
   "metadata": {
    "id": "mSNn0OUSR5wM"
   },
   "source": [
    "Now we would drop all the rows containing NaN values"
   ]
  },
  {
   "cell_type": "code",
   "execution_count": 6,
   "metadata": {
    "id": "v_HvSIe5RxcH"
   },
   "outputs": [],
   "source": [
    "data.dropna(axis = 0, how = 'any', inplace=True)"
   ]
  },
  {
   "cell_type": "markdown",
   "metadata": {
    "id": "rpWkEu_RStka"
   },
   "source": [
    "Now, we would calculate the daily returns as follows:-  \n",
    "## **$\\frac{current \\ day \\ close \\ price - prev \\ day \\ close \\ price}{prev \\ day \\ close \\ price} \n",
    "$**\n",
    "\n",
    "For this we would use the pct_change() method."
   ]
  },
  {
   "cell_type": "code",
   "execution_count": 7,
   "metadata": {
    "colab": {
     "base_uri": "https://localhost:8080/",
     "height": 204
    },
    "id": "ewRdkUXcSJny",
    "outputId": "62e481e2-5a43-46a6-ea81-be0c528a14d2"
   },
   "outputs": [
    {
     "data": {
      "text/html": [
       "<div>\n",
       "<style scoped>\n",
       "    .dataframe tbody tr th:only-of-type {\n",
       "        vertical-align: middle;\n",
       "    }\n",
       "\n",
       "    .dataframe tbody tr th {\n",
       "        vertical-align: top;\n",
       "    }\n",
       "\n",
       "    .dataframe thead th {\n",
       "        text-align: right;\n",
       "    }\n",
       "</style>\n",
       "<table border=\"1\" class=\"dataframe\">\n",
       "  <thead>\n",
       "    <tr style=\"text-align: right;\">\n",
       "      <th></th>\n",
       "      <th>ap</th>\n",
       "      <th>cipla</th>\n",
       "      <th>eicher</th>\n",
       "      <th>hdfc</th>\n",
       "      <th>hu</th>\n",
       "      <th>relaince</th>\n",
       "      <th>tcs</th>\n",
       "    </tr>\n",
       "  </thead>\n",
       "  <tbody>\n",
       "    <tr>\n",
       "      <th>2010-01-04</th>\n",
       "      <td>NaN</td>\n",
       "      <td>NaN</td>\n",
       "      <td>NaN</td>\n",
       "      <td>NaN</td>\n",
       "      <td>NaN</td>\n",
       "      <td>NaN</td>\n",
       "      <td>NaN</td>\n",
       "    </tr>\n",
       "    <tr>\n",
       "      <th>2010-01-05</th>\n",
       "      <td>0.003159</td>\n",
       "      <td>-0.017923</td>\n",
       "      <td>-0.033375</td>\n",
       "      <td>0.000879</td>\n",
       "      <td>-0.003211</td>\n",
       "      <td>-0.004463</td>\n",
       "      <td>0.000266</td>\n",
       "    </tr>\n",
       "    <tr>\n",
       "      <th>2010-01-06</th>\n",
       "      <td>-0.003010</td>\n",
       "      <td>0.040422</td>\n",
       "      <td>-0.008345</td>\n",
       "      <td>0.000674</td>\n",
       "      <td>0.005685</td>\n",
       "      <td>0.016158</td>\n",
       "      <td>-0.022611</td>\n",
       "    </tr>\n",
       "    <tr>\n",
       "      <th>2010-01-07</th>\n",
       "      <td>-0.010202</td>\n",
       "      <td>-0.008263</td>\n",
       "      <td>-0.013974</td>\n",
       "      <td>0.002605</td>\n",
       "      <td>-0.002073</td>\n",
       "      <td>0.016590</td>\n",
       "      <td>-0.027829</td>\n",
       "    </tr>\n",
       "    <tr>\n",
       "      <th>2010-01-08</th>\n",
       "      <td>0.016520</td>\n",
       "      <td>-0.002777</td>\n",
       "      <td>0.013467</td>\n",
       "      <td>0.001314</td>\n",
       "      <td>0.004343</td>\n",
       "      <td>-0.002622</td>\n",
       "      <td>-0.020437</td>\n",
       "    </tr>\n",
       "  </tbody>\n",
       "</table>\n",
       "</div>"
      ],
      "text/plain": [
       "                  ap     cipla    eicher      hdfc        hu  relaince  \\\n",
       "2010-01-04       NaN       NaN       NaN       NaN       NaN       NaN   \n",
       "2010-01-05  0.003159 -0.017923 -0.033375  0.000879 -0.003211 -0.004463   \n",
       "2010-01-06 -0.003010  0.040422 -0.008345  0.000674  0.005685  0.016158   \n",
       "2010-01-07 -0.010202 -0.008263 -0.013974  0.002605 -0.002073  0.016590   \n",
       "2010-01-08  0.016520 -0.002777  0.013467  0.001314  0.004343 -0.002622   \n",
       "\n",
       "                 tcs  \n",
       "2010-01-04       NaN  \n",
       "2010-01-05  0.000266  \n",
       "2010-01-06 -0.022611  \n",
       "2010-01-07 -0.027829  \n",
       "2010-01-08 -0.020437  "
      ]
     },
     "execution_count": 7,
     "metadata": {},
     "output_type": "execute_result"
    }
   ],
   "source": [
    "#convert daily stock prices in daily returns\n",
    "\n",
    "returns = data.pct_change()\n",
    "returns.head()"
   ]
  },
  {
   "cell_type": "code",
   "execution_count": 8,
   "metadata": {
    "id": "KzCWdr4rUKyB"
   },
   "outputs": [],
   "source": [
    "returns.dropna(axis = 0, how = 'any', inplace = True)"
   ]
  },
  {
   "cell_type": "markdown",
   "metadata": {
    "id": "Z8Zyy0AmVKNp"
   },
   "source": [
    "We will need the mean daily returns for the calculation of portfolio return and covariance matrix in order to calculate the standad deviation for the whole porfolio, in which the diagonals represent variance of the returns and the other entries are pairwise-covariance of returns for different stocks."
   ]
  },
  {
   "cell_type": "code",
   "execution_count": 9,
   "metadata": {
    "id": "-vkx1bEcYERN"
   },
   "outputs": [],
   "source": [
    "mean_daily_returns = returns.mean()"
   ]
  },
  {
   "cell_type": "code",
   "execution_count": 10,
   "metadata": {
    "id": "79L_C_tlUzMB"
   },
   "outputs": [],
   "source": [
    "cov_matrix = returns.cov()"
   ]
  },
  {
   "cell_type": "code",
   "execution_count": 11,
   "metadata": {
    "colab": {
     "base_uri": "https://localhost:8080/",
     "height": 266
    },
    "id": "pKg8qL2WVx4x",
    "outputId": "811e7e51-53d7-40b1-e772-3e3cae93318b"
   },
   "outputs": [
    {
     "data": {
      "text/html": [
       "<div>\n",
       "<style scoped>\n",
       "    .dataframe tbody tr th:only-of-type {\n",
       "        vertical-align: middle;\n",
       "    }\n",
       "\n",
       "    .dataframe tbody tr th {\n",
       "        vertical-align: top;\n",
       "    }\n",
       "\n",
       "    .dataframe thead th {\n",
       "        text-align: right;\n",
       "    }\n",
       "</style>\n",
       "<table border=\"1\" class=\"dataframe\">\n",
       "  <thead>\n",
       "    <tr style=\"text-align: right;\">\n",
       "      <th></th>\n",
       "      <th>ap</th>\n",
       "      <th>cipla</th>\n",
       "      <th>eicher</th>\n",
       "      <th>hdfc</th>\n",
       "      <th>hu</th>\n",
       "      <th>relaince</th>\n",
       "      <th>tcs</th>\n",
       "    </tr>\n",
       "  </thead>\n",
       "  <tbody>\n",
       "    <tr>\n",
       "      <th>ap</th>\n",
       "      <td>0.000243</td>\n",
       "      <td>0.000043</td>\n",
       "      <td>0.000080</td>\n",
       "      <td>0.000062</td>\n",
       "      <td>0.000049</td>\n",
       "      <td>0.000064</td>\n",
       "      <td>0.000027</td>\n",
       "    </tr>\n",
       "    <tr>\n",
       "      <th>cipla</th>\n",
       "      <td>0.000043</td>\n",
       "      <td>0.000245</td>\n",
       "      <td>0.000054</td>\n",
       "      <td>0.000046</td>\n",
       "      <td>0.000037</td>\n",
       "      <td>0.000053</td>\n",
       "      <td>0.000032</td>\n",
       "    </tr>\n",
       "    <tr>\n",
       "      <th>eicher</th>\n",
       "      <td>0.000080</td>\n",
       "      <td>0.000054</td>\n",
       "      <td>0.000448</td>\n",
       "      <td>0.000068</td>\n",
       "      <td>0.000043</td>\n",
       "      <td>0.000078</td>\n",
       "      <td>0.000024</td>\n",
       "    </tr>\n",
       "    <tr>\n",
       "      <th>hdfc</th>\n",
       "      <td>0.000062</td>\n",
       "      <td>0.000046</td>\n",
       "      <td>0.000068</td>\n",
       "      <td>0.000175</td>\n",
       "      <td>0.000048</td>\n",
       "      <td>0.000086</td>\n",
       "      <td>0.000042</td>\n",
       "    </tr>\n",
       "    <tr>\n",
       "      <th>hu</th>\n",
       "      <td>0.000049</td>\n",
       "      <td>0.000037</td>\n",
       "      <td>0.000043</td>\n",
       "      <td>0.000048</td>\n",
       "      <td>0.000213</td>\n",
       "      <td>0.000045</td>\n",
       "      <td>0.000032</td>\n",
       "    </tr>\n",
       "    <tr>\n",
       "      <th>relaince</th>\n",
       "      <td>0.000064</td>\n",
       "      <td>0.000053</td>\n",
       "      <td>0.000078</td>\n",
       "      <td>0.000086</td>\n",
       "      <td>0.000045</td>\n",
       "      <td>0.000272</td>\n",
       "      <td>0.000050</td>\n",
       "    </tr>\n",
       "    <tr>\n",
       "      <th>tcs</th>\n",
       "      <td>0.000027</td>\n",
       "      <td>0.000032</td>\n",
       "      <td>0.000024</td>\n",
       "      <td>0.000042</td>\n",
       "      <td>0.000032</td>\n",
       "      <td>0.000050</td>\n",
       "      <td>0.000247</td>\n",
       "    </tr>\n",
       "  </tbody>\n",
       "</table>\n",
       "</div>"
      ],
      "text/plain": [
       "                ap     cipla    eicher      hdfc        hu  relaince       tcs\n",
       "ap        0.000243  0.000043  0.000080  0.000062  0.000049  0.000064  0.000027\n",
       "cipla     0.000043  0.000245  0.000054  0.000046  0.000037  0.000053  0.000032\n",
       "eicher    0.000080  0.000054  0.000448  0.000068  0.000043  0.000078  0.000024\n",
       "hdfc      0.000062  0.000046  0.000068  0.000175  0.000048  0.000086  0.000042\n",
       "hu        0.000049  0.000037  0.000043  0.000048  0.000213  0.000045  0.000032\n",
       "relaince  0.000064  0.000053  0.000078  0.000086  0.000045  0.000272  0.000050\n",
       "tcs       0.000027  0.000032  0.000024  0.000042  0.000032  0.000050  0.000247"
      ]
     },
     "execution_count": 11,
     "metadata": {},
     "output_type": "execute_result"
    }
   ],
   "source": [
    "cov_matrix"
   ]
  },
  {
   "cell_type": "markdown",
   "metadata": {
    "id": "tpCCXJX8WCJB"
   },
   "source": [
    "Now, it is not feasible to manually assign weights randomly and check for optimal values, instead a better way would be to code the weight assignments randomly and iterate over them to find the optimal values.\n",
    "\n",
    "The above technique is named as **Monte-Carlo** Simulation and we will implement it below.\n",
    "\n",
    "In the below code the three columns of *results* matrix represent, porfolio_returns , portfolio_standard_deviation & sharpe_ratio corresponding each weight point"
   ]
  },
  {
   "cell_type": "code",
   "execution_count": 12,
   "metadata": {
    "id": "y1yk1rtlV2ja"
   },
   "outputs": [],
   "source": [
    "#set number of runs of random portfolio weights\n",
    "num_portfolios = 25000\n",
    "\n",
    "#assign the number of stocks in the portfolio\n",
    "num_stocks = len(data.columns)\n",
    "\n",
    "#set up array to hold results & the corresponding weights of the stocks over the iterations \n",
    "#which would help later to locate the optimal weights\n",
    "results = np.zeros((3 + num_stocks ,num_portfolios))"
   ]
  },
  {
   "cell_type": "markdown",
   "metadata": {
    "id": "MmAc1khuZXmW"
   },
   "source": [
    "**Sharpe Ratio** :-\n",
    "\n",
    "##**$\\frac{return \\ on \\ risky \\ asset - return \\ on \\ risk \\ free \\ asset}  {risk \\ standard \\ deviation \\ of \\ portfolio}$**\n",
    "\n",
    "But in the below simulation the return on risk-free asset is assumed to be 0"
   ]
  },
  {
   "cell_type": "code",
   "execution_count": 13,
   "metadata": {
    "id": "yoSuHI1DW-Qo"
   },
   "outputs": [],
   "source": [
    "# iterating over the num_portfolos and assigning the results in results array \n",
    "\n",
    "for i in range(num_portfolios):\n",
    "\n",
    "    #select random weights for portfolio holdings\n",
    "    weights = np.random.random(num_stocks)\n",
    "\n",
    "    #rebalance weights to sum to 1, to ensure that all the money is used\n",
    "    weights /= np.sum(weights)\n",
    "    \n",
    "    #calculate portfolio return and volatility\n",
    "    #here 252 is taken as the number of avg working days in a year\n",
    "    portfolio_return = np.sum(mean_daily_returns * weights) * 252\n",
    "    portfolio_std_dev = np.sqrt(np.dot(weights.T,np.dot(cov_matrix, weights))) * np.sqrt(252)\n",
    "    \n",
    "    #store results in results array\n",
    "    results[0,i] = portfolio_return\n",
    "    results[1,i] = portfolio_std_dev\n",
    "    #store Sharpe Ratio (return / volatility) - risk free rate element excluded for simplicity\n",
    "    results[2,i] = results[0,i] / results[1,i]\n",
    "\n",
    "    #storing the corrsponding weights in the results matrix\n",
    "    for j in range(len(weights)):\n",
    "        results[j+3,i] = weights[j]"
   ]
  },
  {
   "cell_type": "code",
   "execution_count": 14,
   "metadata": {
    "colab": {
     "base_uri": "https://localhost:8080/",
     "height": 238
    },
    "id": "JljrYna0YWuk",
    "outputId": "cbfedeb2-5e30-488c-ce6b-0332c2251462"
   },
   "outputs": [
    {
     "data": {
      "text/plain": [
       "array([[0.23424563, 0.23399689, 0.23546825, ..., 0.25822045, 0.22567472,\n",
       "        0.26356098],\n",
       "       [0.15098492, 0.14715847, 0.14464988, ..., 0.16307529, 0.13912441,\n",
       "        0.15433153],\n",
       "       [1.55145053, 1.59010136, 1.62784957, ..., 1.58344311, 1.6221073 ,\n",
       "        1.70775849],\n",
       "       ...,\n",
       "       [0.20902774, 0.07117667, 0.16888645, ..., 0.1790004 , 0.13682856,\n",
       "        0.21617844],\n",
       "       [0.1167274 , 0.1377627 , 0.04706753, ..., 0.27738688, 0.08980322,\n",
       "        0.13785236],\n",
       "       [0.0167497 , 0.18184786, 0.12965486, ..., 0.02437729, 0.18888344,\n",
       "        0.12438828]])"
      ]
     },
     "execution_count": 14,
     "metadata": {},
     "output_type": "execute_result"
    }
   ],
   "source": [
    "results"
   ]
  },
  {
   "cell_type": "markdown",
   "metadata": {
    "id": "C1Z_WTJlZ0GX"
   },
   "source": [
    "Now we would plot the data to visualise the risk-return tradeoff related with the assignement of weights to different stocks in the portfolio"
   ]
  },
  {
   "cell_type": "code",
   "execution_count": 15,
   "metadata": {
    "colab": {
     "base_uri": "https://localhost:8080/",
     "height": 204
    },
    "id": "N6AiRH77ZKzf",
    "outputId": "de48a4d5-fbf4-4e14-c222-e2a2f807066f"
   },
   "outputs": [
    {
     "data": {
      "text/html": [
       "<div>\n",
       "<style scoped>\n",
       "    .dataframe tbody tr th:only-of-type {\n",
       "        vertical-align: middle;\n",
       "    }\n",
       "\n",
       "    .dataframe tbody tr th {\n",
       "        vertical-align: top;\n",
       "    }\n",
       "\n",
       "    .dataframe thead th {\n",
       "        text-align: right;\n",
       "    }\n",
       "</style>\n",
       "<table border=\"1\" class=\"dataframe\">\n",
       "  <thead>\n",
       "    <tr style=\"text-align: right;\">\n",
       "      <th></th>\n",
       "      <th>ret</th>\n",
       "      <th>stdev</th>\n",
       "      <th>sharpe</th>\n",
       "      <th>ap</th>\n",
       "      <th>cipla</th>\n",
       "      <th>eicher</th>\n",
       "      <th>hdfc</th>\n",
       "      <th>hu</th>\n",
       "      <th>relaince</th>\n",
       "      <th>tcs</th>\n",
       "    </tr>\n",
       "  </thead>\n",
       "  <tbody>\n",
       "    <tr>\n",
       "      <th>0</th>\n",
       "      <td>0.234246</td>\n",
       "      <td>0.150985</td>\n",
       "      <td>1.551451</td>\n",
       "      <td>0.274953</td>\n",
       "      <td>0.068605</td>\n",
       "      <td>0.027690</td>\n",
       "      <td>0.286247</td>\n",
       "      <td>0.209028</td>\n",
       "      <td>0.116727</td>\n",
       "      <td>0.016750</td>\n",
       "    </tr>\n",
       "    <tr>\n",
       "      <th>1</th>\n",
       "      <td>0.233997</td>\n",
       "      <td>0.147158</td>\n",
       "      <td>1.590101</td>\n",
       "      <td>0.180115</td>\n",
       "      <td>0.185794</td>\n",
       "      <td>0.167199</td>\n",
       "      <td>0.076105</td>\n",
       "      <td>0.071177</td>\n",
       "      <td>0.137763</td>\n",
       "      <td>0.181848</td>\n",
       "    </tr>\n",
       "    <tr>\n",
       "      <th>2</th>\n",
       "      <td>0.235468</td>\n",
       "      <td>0.144650</td>\n",
       "      <td>1.627850</td>\n",
       "      <td>0.059835</td>\n",
       "      <td>0.207108</td>\n",
       "      <td>0.169741</td>\n",
       "      <td>0.217707</td>\n",
       "      <td>0.168886</td>\n",
       "      <td>0.047068</td>\n",
       "      <td>0.129655</td>\n",
       "    </tr>\n",
       "    <tr>\n",
       "      <th>3</th>\n",
       "      <td>0.245203</td>\n",
       "      <td>0.154163</td>\n",
       "      <td>1.590543</td>\n",
       "      <td>0.120159</td>\n",
       "      <td>0.067189</td>\n",
       "      <td>0.177598</td>\n",
       "      <td>0.173999</td>\n",
       "      <td>0.140349</td>\n",
       "      <td>0.247841</td>\n",
       "      <td>0.072864</td>\n",
       "    </tr>\n",
       "    <tr>\n",
       "      <th>4</th>\n",
       "      <td>0.237141</td>\n",
       "      <td>0.152273</td>\n",
       "      <td>1.557334</td>\n",
       "      <td>0.167828</td>\n",
       "      <td>0.163709</td>\n",
       "      <td>0.183565</td>\n",
       "      <td>0.158926</td>\n",
       "      <td>0.075155</td>\n",
       "      <td>0.182318</td>\n",
       "      <td>0.068500</td>\n",
       "    </tr>\n",
       "  </tbody>\n",
       "</table>\n",
       "</div>"
      ],
      "text/plain": [
       "        ret     stdev    sharpe        ap     cipla    eicher      hdfc  \\\n",
       "0  0.234246  0.150985  1.551451  0.274953  0.068605  0.027690  0.286247   \n",
       "1  0.233997  0.147158  1.590101  0.180115  0.185794  0.167199  0.076105   \n",
       "2  0.235468  0.144650  1.627850  0.059835  0.207108  0.169741  0.217707   \n",
       "3  0.245203  0.154163  1.590543  0.120159  0.067189  0.177598  0.173999   \n",
       "4  0.237141  0.152273  1.557334  0.167828  0.163709  0.183565  0.158926   \n",
       "\n",
       "         hu  relaince       tcs  \n",
       "0  0.209028  0.116727  0.016750  \n",
       "1  0.071177  0.137763  0.181848  \n",
       "2  0.168886  0.047068  0.129655  \n",
       "3  0.140349  0.247841  0.072864  \n",
       "4  0.075155  0.182318  0.068500  "
      ]
     },
     "execution_count": 15,
     "metadata": {},
     "output_type": "execute_result"
    }
   ],
   "source": [
    "#convert results array to Pandas DataFrame\n",
    "results_frame = pd.DataFrame(results.T, columns=['ret', 'stdev', 'sharpe' ] + list(data.columns))\n",
    "results_frame.head()"
   ]
  },
  {
   "cell_type": "markdown",
   "metadata": {
    "id": "fC6yextKbzq7"
   },
   "source": [
    "In the below code the colormap in the plot characterises Sharpe Ratio"
   ]
  },
  {
   "cell_type": "code",
   "execution_count": 16,
   "metadata": {
    "id": "9zQBj2SgaHVq"
   },
   "outputs": [
    {
     "data": {
      "text/plain": [
       "<matplotlib.colorbar.Colorbar at 0x7fd15b4d85d0>"
      ]
     },
     "execution_count": 16,
     "metadata": {},
     "output_type": "execute_result"
    },
    {
     "data": {
      "image/png": "[encoded data removed]",
      "text/plain": [
       "<Figure size 1080x576 with 2 Axes>"
      ]
     },
     "metadata": {
      "needs_background": "light"
     },
     "output_type": "display_data"
    }
   ],
   "source": [
    "#create scatter plot coloured by Sharpe Ratio\n",
    "plt.figure(figsize = (15,8))\n",
    "plt.scatter(results_frame.stdev, results_frame.ret, c=results_frame.sharpe, cmap='RdYlBu')\n",
    "plt.title('Risk Return Plot')\n",
    "plt.xlabel('Risk')\n",
    "plt.ylabel('Returns')\n",
    "plt.colorbar()"
   ]
  },
  {
   "cell_type": "markdown",
   "metadata": {
    "id": "14zU2PNscCxA"
   },
   "source": [
    "Now from the abobe plot we can conclude that the blue boundary line corresponds to the **`Efficient Frontier`**"
   ]
  },
  {
   "cell_type": "markdown",
   "metadata": {
    "id": "b13uRUd5rP6R"
   },
   "source": [
    "Now, we would locate the optimal weights for :- \n",
    "\n",
    "1. The portfolio which has highest return( highest sharpe ratio)\n",
    "2. The portfolio with minimum risk( minimum standard deviation )"
   ]
  },
  {
   "cell_type": "code",
   "execution_count": 17,
   "metadata": {
    "id": "OxRwPF8gcMWb"
   },
   "outputs": [],
   "source": [
    "#portfolio with highest Sharpe Ratio\n",
    "max_return_port = results_frame.iloc[results_frame['sharpe'].idxmax()]\n",
    "\n",
    "#locate positon of portfolio with minimum standard deviation\n",
    "min_risk_port = results_frame.iloc[results_frame['stdev'].idxmin()]"
   ]
  },
  {
   "cell_type": "code",
   "execution_count": 18,
   "metadata": {
    "colab": {
     "base_uri": "https://localhost:8080/",
     "height": 204
    },
    "id": "Yl4gn2pCr1Dc",
    "outputId": "c8fe13df-4843-4907-a7a2-fc1e8939849a"
   },
   "outputs": [
    {
     "data": {
      "text/plain": [
       "ret         0.286571\n",
       "stdev       0.153021\n",
       "sharpe      1.872752\n",
       "ap          0.146123\n",
       "cipla       0.002014\n",
       "eicher      0.227960\n",
       "hdfc        0.172087\n",
       "hu          0.202649\n",
       "relaince    0.015682\n",
       "tcs         0.233485\n",
       "Name: 11409, dtype: float64"
      ]
     },
     "execution_count": 18,
     "metadata": {},
     "output_type": "execute_result"
    }
   ],
   "source": [
    "max_return_port"
   ]
  },
  {
   "cell_type": "code",
   "execution_count": 19,
   "metadata": {
    "colab": {
     "base_uri": "https://localhost:8080/",
     "height": 204
    },
    "id": "DO2UVMeAr6wy",
    "outputId": "1aaa048f-d89c-4cdd-eddb-54a1a5475c7c"
   },
   "outputs": [
    {
     "data": {
      "text/plain": [
       "ret         0.222575\n",
       "stdev       0.137899\n",
       "sharpe      1.614050\n",
       "ap          0.134075\n",
       "cipla       0.161854\n",
       "eicher      0.067551\n",
       "hdfc        0.158545\n",
       "hu          0.196107\n",
       "relaince    0.087026\n",
       "tcs         0.194842\n",
       "Name: 7996, dtype: float64"
      ]
     },
     "execution_count": 19,
     "metadata": {},
     "output_type": "execute_result"
    }
   ],
   "source": [
    "min_risk_port"
   ]
  },
  {
   "cell_type": "markdown",
   "metadata": {
    "id": "GY4pwb9UsG4C"
   },
   "source": [
    "The following code locates the **max_return_port** & **min_risk_port** in the above plot "
   ]
  },
  {
   "cell_type": "code",
   "execution_count": 20,
   "metadata": {
    "colab": {
     "base_uri": "https://localhost:8080/",
     "height": 530
    },
    "id": "0YH0EsH-sBCi",
    "outputId": "051c86f8-7268-4261-d91f-d5dbf5513ef2"
   },
   "outputs": [
    {
     "data": {
      "text/plain": [
       "<matplotlib.collections.PathCollection at 0x7fd15bd9e9d0>"
      ]
     },
     "execution_count": 20,
     "metadata": {},
     "output_type": "execute_result"
    },
    {
     "data": {
      "image/png": "[encoded data removed]",
      "text/plain": [
       "<Figure size 1080x576 with 2 Axes>"
      ]
     },
     "metadata": {
      "needs_background": "light"
     },
     "output_type": "display_data"
    }
   ],
   "source": [
    "#create scatter plot coloured by Sharpe Ratio\n",
    "plt.figure(figsize = (15, 8))\n",
    "plt.scatter(results_frame.stdev,results_frame.ret,c=results_frame.sharpe,cmap='RdYlBu')\n",
    "plt.title('Location of Optimal Portfolio')\n",
    "plt.xlabel('Risk')\n",
    "plt.ylabel('Returns')\n",
    "plt.colorbar()\n",
    "#plot red star to highlight position of portfolio with highest Sharpe Ratio(i.e. max return)\n",
    "plt.scatter(max_return_port[1],max_return_port[0],marker=(5,1,0),color='r',s=1000)\n",
    "#plot green star to highlight position of minimum variance portfolio(i.e. minimum risk)\n",
    "plt.scatter(min_risk_port[1],min_risk_port[0],marker=(5,1,0),color='g',s=1000)"
   ]
  },
  {
   "cell_type": "markdown",
   "metadata": {
    "id": "YCBaIwdntIw_"
   },
   "source": [
    "----------------------------------------------------------------------------------------"
   ]
  },
  {
   "cell_type": "markdown",
   "metadata": {
    "id": "esJtS27gtMAb"
   },
   "source": [
    "**Q2** What is the impact of increasing the number of stocks in the portfolio?\n",
    "\n",
    "**Answer** :- As the Capinski book gives the formula for standard deviation of portfolio returns as\n",
    "\n",
    "###$\\sigma_V^2 = Var(\\epsilon_V) \\ + \\ \\beta_V^2 \\sigma_M^2 $\n",
    "\n",
    "The two parts of the equation, i.e.  $Var(\\epsilon_V)$ signifies the unsystematic or diversifiable risk whereas $\\beta_V^2 \\sigma_M^2$ signifies systematic or undiversifiable risk. Now keeping that in mind, increasing the number of stocks in the portfolio assures of diversification due to which the diversifiable risk is reduced and as a result $\\sigma_V^2$(i.e. portfolio risk) is also reduced. One more thing to note is that systematic risk is inherent to the whole market and is not in our control, it is affected by Govt. Policies, Market Recession, etc.\n",
    "\n",
    "But even having a very large number of stocks would hurt the portfolio performance, say we have 100 stocks, in thar=t case even a good performing stock would contribute a little to the portfolio. Also, the rule regarding diversification is that it’s marginal benefit reduces as the number of stocks increases a certain value."
   ]
  },
  {
   "cell_type": "markdown",
   "metadata": {
    "id": "O7WqXedTuCM9"
   },
   "source": [
    "------------------------------------------------------------------------------------------"
   ]
  },
  {
   "cell_type": "markdown",
   "metadata": {
    "id": "XVVfWon-uFF3"
   },
   "source": [
    "**Q3** Why are calculating the weights by optimization not giving equal weightage to every stock?\n",
    "\n",
    "**Answer** :- The very simple answer to this question is that, each stock has their respective returns as well as risk , so in order to maximise the return or minimize the risk of portfolio, we need a combination of optimal weights which may or may not be equal, subject to the constraint that $\\Sigma w_i = 1$\n",
    "\n",
    "A simple example is :-\n",
    "Suppose we want to maximise the below function\n",
    "a + 3b + 5c subject to the constraint a + b + c = 1, then for this we need not have a = b = c.\n"
   ]
  },
  {
   "cell_type": "markdown",
   "metadata": {
    "id": "bwJ9CcazuLaK"
   },
   "source": [
    "-----------------------------------------------------------------------------------------"
   ]
  },
  {
   "cell_type": "markdown",
   "metadata": {
    "id": "idcDdyAkuOs2"
   },
   "source": [
    "**Q4** Which optimization techniques are used by Mutual Funds currently?\n",
    "\n",
    "**Answer** :- Optimization Techniques are basically risk - management techniques for any portfolio. Some of the optimization techniques used by mutual funds currently are -\n",
    "\n",
    "* mean-semivariance portfolio optimization model \n",
    "* fuzzy optimization model\n",
    "* Stochastic Programming\n",
    "* CAPM\n",
    "\n",
    "Note :- This answer might be inaccurate, I would request you to please provide the right answer or reference to the right answer after the assignment is submitted.\n"
   ]
  },
  {
   "cell_type": "markdown",
   "metadata": {
    "id": "POfo1KQEeUhD"
   },
   "source": [
    "-------------------------------------------------------------------------------------------------------------------------------"
   ]
  },
  {
   "cell_type": "code",
   "execution_count": null,
   "metadata": {
    "id": "yLnyZ4mredoA"
   },
   "outputs": [],
   "source": []
  }
 ],
 "metadata": {
  "colab": {
   "collapsed_sections": [],
   "name": "KUMAR-SHAURYA_Quant_02.ipynb",
   "provenance": []
  },
  "kernelspec": {
   "display_name": "Python 3",
   "language": "python",
   "name": "python3"
  },
  "language_info": {
   "codemirror_mode": {
    "name": "ipython",
    "version": 3
   },
   "file_extension": ".py",
   "mimetype": "text/x-python",
   "name": "python",
   "nbconvert_exporter": "python",
   "pygments_lexer": "ipython3",
   "version": "3.7.6"
  }
 },
 "nbformat": 4,
 "nbformat_minor": 1
}
